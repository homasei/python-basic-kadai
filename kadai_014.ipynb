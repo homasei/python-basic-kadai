{
 "cells": [
  {
   "cell_type": "code",
   "execution_count": 1,
   "id": "364469de",
   "metadata": {},
   "outputs": [
    {
     "ename": "NameError",
     "evalue": "name 'tax' is not defined",
     "output_type": "error",
     "traceback": [
      "\u001b[1;31m---------------------------------------------------------------------------\u001b[0m",
      "\u001b[1;31mNameError\u001b[0m                                 Traceback (most recent call last)",
      "Cell \u001b[1;32mIn[1], line 9\u001b[0m\n\u001b[0;32m      6\u001b[0m     tax \u001b[38;5;241m=\u001b[39m \u001b[38;5;241m1.1\u001b[39m\n\u001b[0;32m      7\u001b[0m     \u001b[38;5;28;01mreturn\u001b[39;00m price1 \u001b[38;5;241m+\u001b[39m price2\n\u001b[1;32m----> 9\u001b[0m \u001b[38;5;28mprint\u001b[39m (total() \u001b[38;5;241m*\u001b[39m \u001b[43mtax\u001b[49m)\n",
      "\u001b[1;31mNameError\u001b[0m: name 'tax' is not defined"
     ]
    }
   ],
   "source": [
    "#修正前\n",
    "price1 = 100\n",
    "price2 = 200\n",
    "\n",
    "def total():\n",
    "    tax = 1.1\n",
    "    return price1 + price2\n",
    "\n",
    "print (total() * tax)\n"
   ]
  },
  {
   "cell_type": "code",
   "execution_count": 4,
   "id": "de52cddf",
   "metadata": {},
   "outputs": [
    {
     "name": "stdout",
     "output_type": "stream",
     "text": [
      "330.0\n"
     ]
    }
   ],
   "source": [
    "#修正後\n",
    "#price1 = 100\n",
    "price2 = 200\n",
    "tax = 1.1\n",
    "\n",
    "def total():\n",
    "    #tax = 1.1\n",
    "    price1 = 100\n",
    "    return price1 + price2\n",
    "\n",
    "print (total() * tax)"
   ]
  },
  {
   "cell_type": "code",
   "execution_count": null,
   "id": "ac551f78",
   "metadata": {},
   "outputs": [],
   "source": []
  }
 ],
 "metadata": {
  "kernelspec": {
   "display_name": "Python 3 (ipykernel)",
   "language": "python",
   "name": "python3"
  },
  "language_info": {
   "codemirror_mode": {
    "name": "ipython",
    "version": 3
   },
   "file_extension": ".py",
   "mimetype": "text/x-python",
   "name": "python",
   "nbconvert_exporter": "python",
   "pygments_lexer": "ipython3",
   "version": "3.11.3"
  }
 },
 "nbformat": 4,
 "nbformat_minor": 5
}
