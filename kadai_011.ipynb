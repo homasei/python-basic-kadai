{
 "cells": [
  {
   "cell_type": "code",
   "execution_count": 41,
   "id": "fed4edb9",
   "metadata": {},
   "outputs": [
    {
     "name": "stdout",
     "output_type": "stream",
     "text": [
      "水\n",
      "金\n",
      "地\n",
      "火\n",
      "木\n",
      "土\n",
      "天\n",
      "海\n",
      "冥\n",
      "水\n",
      "金\n",
      "地\n",
      "火\n",
      "木\n",
      "土\n",
      "天\n",
      "海\n",
      "冥\n"
     ]
    }
   ],
   "source": [
    "list = [\"水\", \"金\", \"地\", \"火\", \"木\", \"土\", \"天\", \"海\", \"冥\"]\n",
    "count = 0\n",
    "\n",
    "for i in list:\n",
    "    print(i)\n",
    "\n",
    "while count < len(list) :\n",
    "    print(list[count])\n",
    "    count +=1"
   ]
  }
 ],
 "metadata": {
  "kernelspec": {
   "display_name": "Python 3 (ipykernel)",
   "language": "python",
   "name": "python3"
  },
  "language_info": {
   "codemirror_mode": {
    "name": "ipython",
    "version": 3
   },
   "file_extension": ".py",
   "mimetype": "text/x-python",
   "name": "python",
   "nbconvert_exporter": "python",
   "pygments_lexer": "ipython3",
   "version": "3.11.3"
  }
 },
 "nbformat": 4,
 "nbformat_minor": 5
}
