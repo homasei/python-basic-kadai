{
 "cells": [
  {
   "cell_type": "code",
   "execution_count": 8,
   "id": "5728293d",
   "metadata": {},
   "outputs": [
    {
     "name": "stdout",
     "output_type": "stream",
     "text": [
      "takeshiは未成年です\n",
      "kasumiは大人です\n",
      "satoshiは大人です\n"
     ]
    }
   ],
   "source": [
    "#Humanクラスの設定\n",
    "class Human :\n",
    "    def __init__(self,name,age):\n",
    "        self.name = name\n",
    "        self.age = age\n",
    "        \n",
    "    def check_adult(self):\n",
    "        if self.age >= 20:\n",
    "            print(f\"{self.name}は大人です\")\n",
    "        else:\n",
    "            print(f\"{self.name}は未成年です\")\n",
    "\n",
    "#インスタンスの生成\n",
    "f_person = Human(\"takeshi\",18)\n",
    "\n",
    "s_person = Human(\"kasumi\",26)\n",
    "\n",
    "t_person = Human(\"satoshi\",56)\n",
    "\n",
    "#リストの作成\n",
    "persons = [f_person,s_person,t_person]\n",
    "\n",
    "#繰り返し処理\n",
    "for person in persons:\n",
    "    person.check_adult()"
   ]
  }
 ],
 "metadata": {
  "kernelspec": {
   "display_name": "Python 3 (ipykernel)",
   "language": "python",
   "name": "python3"
  },
  "language_info": {
   "codemirror_mode": {
    "name": "ipython",
    "version": 3
   },
   "file_extension": ".py",
   "mimetype": "text/x-python",
   "name": "python",
   "nbconvert_exporter": "python",
   "pygments_lexer": "ipython3",
   "version": "3.11.3"
  }
 },
 "nbformat": 4,
 "nbformat_minor": 5
}
